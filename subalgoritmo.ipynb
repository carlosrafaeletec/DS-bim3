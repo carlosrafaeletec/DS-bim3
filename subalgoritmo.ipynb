{
 "cells": [
  {
   "attachments": {},
   "cell_type": "markdown",
   "metadata": {},
   "source": [
    "# Exemplos de utilização do Jupyter\n",
    "\n",
    "### Sintaxe de procedimento:\n",
    "```python\n",
    "def nome_procedimento(parametro) -> None:\n",
    "    corpo do procedimento\n",
    "```"
   ]
  },
  {
   "cell_type": "code",
   "execution_count": 31,
   "metadata": {},
   "outputs": [
    {
     "name": "stdout",
     "output_type": "stream",
     "text": [
      "Bom dia\n"
     ]
    }
   ],
   "source": [
    "def saudacao() -> None:\n",
    "    print(\"Bom dia\")\n",
    "\n",
    "saudacao()"
   ]
  },
  {
   "cell_type": "code",
   "execution_count": 32,
   "metadata": {},
   "outputs": [
    {
     "name": "stdout",
     "output_type": "stream",
     "text": [
      "Bom noite\n"
     ]
    }
   ],
   "source": [
    "def saudacao2(msg: str) -> None:\n",
    "    print(msg)\n",
    "\n",
    "saudacao2(\"Bom noite\")"
   ]
  },
  {
   "attachments": {},
   "cell_type": "markdown",
   "metadata": {},
   "source": [
    "Programa Principal"
   ]
  },
  {
   "cell_type": "code",
   "execution_count": 33,
   "metadata": {},
   "outputs": [
    {
     "name": "stdout",
     "output_type": "stream",
     "text": [
      "Bom dia\n",
      "Bom tarde\n"
     ]
    }
   ],
   "source": [
    "saudacao()\n",
    "saudacao2(\"Bom tarde\")"
   ]
  },
  {
   "attachments": {},
   "cell_type": "markdown",
   "metadata": {},
   "source": [
    "## Parametros default\n",
    "\n",
    "```python\n",
    "def saudacao3(msg: str) -> None:\n",
    "    print(msg)\n",
    "```"
   ]
  },
  {
   "cell_type": "code",
   "execution_count": 34,
   "metadata": {},
   "outputs": [
    {
     "name": "stdout",
     "output_type": "stream",
     "text": [
      "Boa noite\n"
     ]
    }
   ],
   "source": [
    "def saudacao3(msg: str = \"Bom dia\") -> None:\n",
    "    print(msg)\n",
    "\n",
    "saudacao3(\"Boa noite\")"
   ]
  },
  {
   "cell_type": "code",
   "execution_count": 36,
   "metadata": {},
   "outputs": [
    {
     "name": "stdout",
     "output_type": "stream",
     "text": [
      "8\n",
      "78\n"
     ]
    }
   ],
   "source": [
    "def exemplo(a = 3, b = 9, c = 6) -> int:\n",
    "    maior = a\n",
    "    if b > maior:\n",
    "        maior = b\n",
    "    if c > maior:\n",
    "        maior = c\n",
    "    return maior\n",
    "\n",
    "print(exemplo(4,8,2))\n",
    "print(exemplo(c=78))"
   ]
  },
  {
   "attachments": {},
   "cell_type": "markdown",
   "metadata": {},
   "source": [
    "## Exercicio:\n",
    "Faça um procedimento chamado \"consulta_medica\" que passe por parâmetro o nome de uma pessoa e o horário de seu atendimento. Por padrão, o nome da pessoa é \"Paciente\" e o horario de atendimento é as 8h. Construa este procedimento e o execute."
   ]
  },
  {
   "cell_type": "code",
   "execution_count": 51,
   "metadata": {},
   "outputs": [
    {
     "name": "stdout",
     "output_type": "stream",
     "text": [
      "Paciente, o seu atendimento é as 8 hrs\n"
     ]
    }
   ],
   "source": [
    "def consulta_medica(nm_pac: str = \"Paciente\", hr: int = 8) -> None:\n",
    "    print(f\"{nm_pac}, o seu atendimento é as {hr} hrs\")\n",
    "\n",
    "consulta_medica()"
   ]
  },
  {
   "attachments": {},
   "cell_type": "markdown",
   "metadata": {},
   "source": [
    "## Parâmetros de tipo *args\n",
    "\n",
    "Vamos fazer uma função que calcule a soma:"
   ]
  },
  {
   "cell_type": "code",
   "execution_count": 58,
   "metadata": {},
   "outputs": [
    {
     "name": "stdout",
     "output_type": "stream",
     "text": [
      "41\n"
     ]
    }
   ],
   "source": [
    "def soma(*args) -> float: # o *args passa a ser uma lista\n",
    "    somatoria = 0\n",
    "    for valor in args:\n",
    "        somatoria = somatoria + valor\n",
    "    \n",
    "    return somatoria\n",
    "\n",
    "print(soma(5,7,8,2,5,1,5,8))"
   ]
  },
  {
   "attachments": {},
   "cell_type": "markdown",
   "metadata": {},
   "source": [
    "## Subalgoritmo encadeado\n",
    "Utilizamos este tipo de sub algoritmo quando precisamos resolver dois(ou mais) problemas. 0 segundo subalgoritmo é secundário, ou seja, ele só funciona dentro do primeiro. <br>\n",
    "**Sintaxe**:\n",
    "```python\n",
    "def subalgoritmo_primario(parametros) -> Tipo_retorno:\n",
    "    def subalgoritmo_secundario(parametros) -> tipo_retorno:\n",
    "        corpo_sub_secundario\n",
    "        [retorno_secundario]\n",
    "    corpo_sub_primario\n",
    "    [retorno_primario]\n",
    "```\n",
    "\n",
    "**Exemplo**\n",
    "Fazer uma função que pegue 3 valores e retorne a média simples dos dois maiores.\n",
    "\n"
   ]
  },
  {
   "cell_type": "code",
   "execution_count": 63,
   "metadata": {},
   "outputs": [
    {
     "name": "stdout",
     "output_type": "stream",
     "text": [
      "12.5\n"
     ]
    }
   ],
   "source": [
    "def media_notas(n1:float, n2:float, n3:float) -> float:\n",
    "    def menor_nota(n1:float, n2float, n3:float) -> float:\n",
    "        menor = n1\n",
    "        if n2 < menor:\n",
    "            menor = n2\n",
    "        if n3 < menor:\n",
    "            menor = n3\n",
    "        return menor\n",
    "    return (n1 + n2 + n3 - menor_nota(n1, n2, n3)) / 2\n",
    "print(media_notas(1,22,3))"
   ]
  },
  {
   "attachments": {},
   "cell_type": "markdown",
   "metadata": {},
   "source": [
    "**Exercicio**\n",
    "\n",
    "considerando os conceitos *args e subalgoritmo encadeado, resolva o problema que segue:\n",
    "faça um subalgoritmos que calcule a media de diversos valores pssados por parametro. \n",
    "Primaria \"calcular _soma_\", secundaria \"calcular media\"."
   ]
  },
  {
   "cell_type": "code",
   "execution_count": 66,
   "metadata": {},
   "outputs": [
    {
     "name": "stdout",
     "output_type": "stream",
     "text": [
      "4.166666666666667\n"
     ]
    }
   ],
   "source": [
    "def calcular_soma(*args) -> float:\n",
    "    def calcular_media(*args) -> float:\n",
    "        i = 0\n",
    "        for media in args:\n",
    "            i += 1\n",
    "\n",
    "        return i\n",
    "\n",
    "    soma = 0\n",
    "    for valor in args:\n",
    "        soma = soma + valor\n",
    "    \n",
    "    return soma / calcular_media(*args)\n",
    "\n",
    "print(calcular_soma(5,2,7,1,3,7))"
   ]
  }
 ],
 "metadata": {
  "kernelspec": {
   "display_name": "Python 3",
   "language": "python",
   "name": "python3"
  },
  "language_info": {
   "codemirror_mode": {
    "name": "ipython",
    "version": 3
   },
   "file_extension": ".py",
   "mimetype": "text/x-python",
   "name": "python",
   "nbconvert_exporter": "python",
   "pygments_lexer": "ipython3",
   "version": "3.11.4"
  },
  "orig_nbformat": 4
 },
 "nbformat": 4,
 "nbformat_minor": 2
}
